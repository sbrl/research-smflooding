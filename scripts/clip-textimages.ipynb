{
 "cells": [
  {
   "cell_type": "code",
   "execution_count": 1,
   "id": "6736a016-2de8-41a4-bb76-2b4fb165e124",
   "metadata": {},
   "outputs": [
    {
     "name": "stderr",
     "output_type": "stream",
     "text": [
      "/usr/lib/python3/dist-packages/requests/__init__.py:89: RequestsDependencyWarning: urllib3 (1.26.9) or chardet (3.0.4) doesn't match a supported version!\n",
      "  warnings.warn(\"urllib3 ({}) or chardet ({}) doesn't match a supported \"\n"
     ]
    }
   ],
   "source": [
    "import os\n",
    "\n",
    "import torch\n",
    "import clip\n",
    "from PIL import Image\n",
    "import numpy as np \n",
    "import seaborn as sns\n",
    "import matplotlib.pylab as plt"
   ]
  },
  {
   "cell_type": "code",
   "execution_count": 2,
   "id": "5e983c71-42e1-4f06-8f8f-0addf5ded7c7",
   "metadata": {},
   "outputs": [],
   "source": [
    "dir_media = \"/mnt/research-data/main/twitter/media/\""
   ]
  },
  {
   "cell_type": "code",
   "execution_count": 3,
   "id": "a3065233-42e7-4640-b0f9-42df421b1c40",
   "metadata": {},
   "outputs": [],
   "source": [
    "in_text = [\n",
    "    \"Floodwaters have now subsided on the road from Inverell to our Dumaresq substation.\\n\\nThe site is accessible but remains closed today. Some minor road repairs are required on the access road into the site from the Bruxner highway.\",\n",
    "    \"The waters are rising but the sun is out and the skies are blue on the other side of the bridge\",\n",
    "    \"Bit of an update on #Moree flooding. 3pm Wed: Gwydir looking to Pally; back to town; town weir to south; looking north with main bridge at bottom of photo. A lot of water coming into Mehi from hills so hard to know what actual height will be\"\n",
    "]\n",
    "\n",
    "in_images = [\n",
    "    \"ExShBSKUUAUYff0.jpg\",\n",
    "    \"ExMjmk_VEAAiZhj.jpg\",\n",
    "    \"ExOND50VkAIwHGB.jpg\"\n",
    "]"
   ]
  },
  {
   "cell_type": "code",
   "execution_count": 4,
   "id": "a4860873-023b-4d98-8c9b-8561c3632cf7",
   "metadata": {},
   "outputs": [
    {
     "name": "stdout",
     "output_type": "stream",
     "text": [
      "This is PyTorch on cpu\n"
     ]
    }
   ],
   "source": [
    "# device = \"cuda\" if torch.cuda.is_available() else \"cpu\"\n",
    "device = \"cpu\"\n",
    "print(f\"This is PyTorch on {device}\")\n",
    "model, preprocess = clip.load(\"ViT-B/32\", device=device)"
   ]
  },
  {
   "cell_type": "code",
   "execution_count": 5,
   "id": "bcbec7e8-f9b8-427c-95bf-3f90c99ae480",
   "metadata": {},
   "outputs": [
    {
     "name": "stdout",
     "output_type": "stream",
     "text": [
      "TEXT torch.Size([3, 77])\n",
      "IMAGES torch.Size([3, 3, 224, 224])\n"
     ]
    }
   ],
   "source": [
    "text = clip.tokenize(in_text).to(device)\n",
    "images = torch.stack([ preprocess(Image.open(os.path.join(dir_media, filename))) for filename in in_images ]).to(device)\n",
    "print(\"TEXT\", text.shape)\n",
    "print(\"IMAGES\", images.shape)"
   ]
  },
  {
   "cell_type": "code",
   "execution_count": 6,
   "id": "5dd85c27-ab46-42ea-b6e3-02755e0234ea",
   "metadata": {},
   "outputs": [],
   "source": [
    "with torch.no_grad():\n",
    "    image_features = model.encode_image(images)\n",
    "    text_features = model.encode_text(text)\n",
    "    \n",
    "    logits_per_image, logits_per_text = model(images, text)\n",
    "    similarities = logits_per_image.softmax(dim=-1).cpu().numpy()"
   ]
  },
  {
   "cell_type": "code",
   "execution_count": 7,
   "id": "6a343896-57fb-4b93-8f12-6767eac585c1",
   "metadata": {},
   "outputs": [
    {
     "data": {
      "image/png": "[encoded data removed]",
      "text/plain": [
       "<Figure size 432x288 with 2 Axes>"
      ]
     },
     "metadata": {
      "needs_background": "light"
     },
     "output_type": "display_data"
    }
   ],
   "source": [
    "plot_heatmap_text = sns.heatmap(text_features)\n",
    "plt.savefig(\"/tmp/clip-text-features.png\", bbox_inches=\"tight\")"
   ]
  },
  {
   "cell_type": "code",
   "execution_count": 8,
   "id": "02e61862-3f92-40ed-be8f-bc30740a47d9",
   "metadata": {},
   "outputs": [
    {
     "data": {
      "image/png": "[encoded data removed]",
      "text/plain": [
       "<Figure size 432x288 with 2 Axes>"
      ]
     },
     "metadata": {
      "needs_background": "light"
     },
     "output_type": "display_data"
    }
   ],
   "source": [
    "plot_heatmap_images = sns.heatmap(image_features)\n",
    "plt.savefig(\"/tmp/clip-image-features.png\", bbox_inches=\"tight\")"
   ]
  },
  {
   "cell_type": "code",
   "execution_count": 9,
   "id": "6d37d98c-749e-4134-a588-8d1a88127e92",
   "metadata": {},
   "outputs": [
    {
     "name": "stdout",
     "output_type": "stream",
     "text": [
      "[[0.9545743  0.02426469 0.02116101]\n",
      " [0.8919009  0.00527984 0.10281917]\n",
      " [0.09077321 0.00146314 0.9077637 ]]\n"
     ]
    },
    {
     "data": {
      "image/png": "[encoded data removed]",
      "text/plain": [
       "<Figure size 432x288 with 2 Axes>"
      ]
     },
     "metadata": {
      "needs_background": "light"
     },
     "output_type": "display_data"
    }
   ],
   "source": [
    "print(similarities)\n",
    "plot_heatmap_similarities = sns.heatmap(np.transpose(similarities))\n",
    "plt.savefig(\"/tmp/clip-similarities.png\", bbox_inches=\"tight\")"
   ]
  },
  {
   "cell_type": "code",
   "execution_count": null,
   "id": "62f6e700-3256-427e-916f-d6f593dc17c8",
   "metadata": {},
   "outputs": [],
   "source": []
  }
 ],
 "metadata": {
  "kernelspec": {
   "display_name": "Python 3 (ipykernel)",
   "language": "python",
   "name": "python3"
  },
  "language_info": {
   "codemirror_mode": {
    "name": "ipython",
    "version": 3
   },
   "file_extension": ".py",
   "mimetype": "text/x-python",
   "name": "python",
   "nbconvert_exporter": "python",
   "pygments_lexer": "ipython3",
   "version": "3.8.10"
  }
 },
 "nbformat": 4,
 "nbformat_minor": 5
}
