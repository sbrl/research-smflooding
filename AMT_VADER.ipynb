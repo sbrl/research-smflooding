{
  "cells": [
    {
      "cell_type": "markdown",
      "metadata": {
        "colab_type": "text",
        "id": "view-in-github"
      },
      "source": [
        "<a href=\"https://colab.research.google.com/github/koegode/Hackathon202203-Project-3/blob/main/AMT_VADER.ipynb\" target=\"_parent\"><img src=\"https://colab.research.google.com/assets/colab-badge.svg\" alt=\"Open In Colab\"/></a>"
      ]
    },
    {
      "cell_type": "code",
      "execution_count": null,
      "metadata": {
        "id": "_p2LpCd8FcGZ"
      },
      "outputs": [],
      "source": [
        "import os\n",
        "import numpy as np\n",
        "import pandas as pd\n",
        "import sys\n",
        "import matplotlib\n",
        "import matplotlib.pyplot as plt\n",
        "import seaborn as sns\n",
        "sns.set_style('whitegrid')\n",
        "import re\n",
        "import string\n",
        "import nltk\n",
        "import csv\n",
        "import demoji\n",
        "# demoji.download_codes()\n",
        "from nltk.stem.wordnet import WordNetLemmatizer\n",
        "\n",
        "# df = pd.read_json ('tweets.jsonl', lines = True)\n",
        "# df.to_csv ('tweets.csv')"
      ]
    },
    {
      "cell_type": "code",
      "execution_count": null,
      "metadata": {
        "id": "1uzHC-rJFcGe",
        "outputId": "a0a693ca-e0d8-4251-9d99-f1fd1788ff3f"
      },
      "outputs": [
        {
          "data": {
            "text/plain": [
              "(2001, 31)"
            ]
          },
          "execution_count": 2,
          "metadata": {},
          "output_type": "execute_result"
        }
      ],
      "source": [
        "flood_amt_df = pd.read_csv ('amt_dataset.csv')\n",
        "flood_amt_df.shape"
      ]
    },
    {
      "cell_type": "code",
      "execution_count": null,
      "metadata": {
        "id": "yOsOcpAxFcGf"
      },
      "outputs": [],
      "source": [
        "import json\n",
        "import collections\n",
        "import pandas as pd\n",
        "import numpy as np\n",
        "from nltk.corpus import stopwords\n",
        "import re\n",
        "from nltk.tokenize import TweetTokenizer\n",
        "def text_preprocess(text):\n",
        "    FLAGS = re.MULTILINE | re.DOTALL\n",
        "    # Different regex parts for smiley faces\n",
        "    eyes = r\"[8:=;]\"\n",
        "    nose = r\"['`\\-]?\"\n",
        "    # function so code less repetitive\n",
        "    def re_sub(pattern, repl):\n",
        "        return re.sub(pattern, repl, text, flags=FLAGS)\n",
        "    text = re_sub(r\"https?:\\/\\/\\S+\\b|www\\.(\\w+\\.)+\\S*\", \"<url>\")\n",
        "    text = re_sub(r\"/\",\" / \")\n",
        "    text = re_sub(r\"@\\w+\", \"<user>\")\n",
        "    text = re_sub(r\"{}{}[)dD]+|[)dD]+{}{}\".format(eyes, nose, nose, eyes), \"<smile>\")\n",
        "    text = re_sub(r\"{}{}p+\".format(eyes, nose), \"<lolface>\")\n",
        "    text = re_sub(r\"{}{}\\(+|\\)+{}{}\".format(eyes, nose, nose, eyes), \"<sadface>\")\n",
        "    text = re_sub(r\"{}{}[\\/|l*]\".format(eyes, nose), \"<neutralface>\")\n",
        "    text = re_sub(r\"<3\",\"<heart>\")\n",
        "    text = re_sub(r\"[-+]?[.\\d]*[\\d]+[:,.\\d]*\", \"<number>\")\n",
        "    text = re_sub(r\"([!?.]){2,}\", r\"\\1 <repeat>\")\n",
        "    text = re_sub(r\"\\b(\\S*?)(.)\\2{2,}\\b\", r\"\\1\\2 <elong>\")\n",
        "    text = re_sub(r\"[A-Za-z]+[@#$%^&*()]+[A-Za-z]*\",\"abuse\")\n",
        "    \n",
        "    return  text #\" \".join(tokens)\n"
      ]
    },
    {
      "cell_type": "code",
      "execution_count": null,
      "metadata": {
        "id": "Qu3qRiWZFcGh",
        "outputId": "ea5758cb-d674-4f80-ea3e-b6e39c8a49b3"
      },
      "outputs": [],
      "source": [
        "flood_amt_df.head()"
      ]
    },
    {
      "cell_type": "code",
      "execution_count": null,
      "metadata": {
        "id": "igWbIY17FcGh",
        "outputId": "20ef0060-7626-46e5-86b5-5ce619779f6e"
      },
      "outputs": [],
      "source": [
        "from vaderSentiment.vaderSentiment import SentimentIntensityAnalyzer\n",
        "\n",
        "analyzer = SentimentIntensityAnalyzer()\n",
        "for text in flood_amt_df['Input.text']:\n",
        "    vs = analyzer.polarity_scores(text)\n",
        "    print(\"{:-<65} {}\".format(text, str(vs)))"
      ]
    },
    {
      "cell_type": "code",
      "execution_count": null,
      "metadata": {
        "id": "ZRs0NFanFcGi",
        "outputId": "dba1bc75-c856-4b76-e6b5-d4a4a59f564b"
      },
      "outputs": [],
      "source": [
        "import nltk\n",
        "nltk.download('vader_lexicon')\n",
        "from nltk.sentiment.vader import SentimentIntensityAnalyzer\n",
        "\n",
        "sid = SentimentIntensityAnalyzer()"
      ]
    },
    {
      "cell_type": "code",
      "execution_count": null,
      "metadata": {
        "id": "g3NsDD5FFcGj"
      },
      "outputs": [],
      "source": [
        "flood_amt_df['cleaned_text'] = flood_amt_df['Input.text'].apply(text_preprocess)\n"
      ]
    },
    {
      "cell_type": "code",
      "execution_count": null,
      "metadata": {
        "id": "yOQiR1zPFcGj"
      },
      "outputs": [],
      "source": [
        "analyzer = SentimentIntensityAnalyzer()\n",
        "flood_amt_df['compound'] = [analyzer.polarity_scores(x)['compound'] for x in flood_amt_df['Input.text']]\n",
        "flood_amt_df['neg'] = [analyzer.polarity_scores(x)['neg'] for x in flood_amt_df['Input.text']]\n",
        "flood_amt_df['neu'] = [analyzer.polarity_scores(x)['neu'] for x in flood_amt_df['Input.text']]\n",
        "flood_amt_df['pos'] = [analyzer.polarity_scores(x)['pos'] for x in flood_amt_df['Input.text']]"
      ]
    },
    {
      "cell_type": "code",
      "execution_count": null,
      "metadata": {
        "id": "b9bcALyAFcGk",
        "outputId": "7c4dfa33-9cde-48e0-c4fc-408b07a9fe2c"
      },
      "outputs": [],
      "source": [
        "flood_amt_df['scores'] = flood_amt_df['Input.text'].apply(lambda text: sid.polarity_scores(text))\n",
        "flood_amt_df['sentiment_score'] = flood_amt_df['compound'].apply(lambda c: 'positive' if c >= 0 else 'negative')\n",
        "flood_amt_df['sentiment_score2'] = flood_amt_df['compound'].apply(lambda c: 'positive' if c > 0 else ('neutral' if c == 0 else 'negative'))\n",
        "\n",
        "flood_amt_df.head()"
      ]
    },
    {
      "cell_type": "code",
      "execution_count": null,
      "metadata": {
        "id": "CtnkiQ2LFcGl",
        "outputId": "ff8d4197-62e8-4f40-a9a7-3535e4e6b209"
      },
      "outputs": [],
      "source": [
        "flood_amt_df['Answer.sentiment.label'].unique()"
      ]
    },
    {
      "cell_type": "code",
      "execution_count": null,
      "metadata": {
        "id": "olZmipMUFcGm",
        "outputId": "839721c0-602b-4e1e-e20f-26a80f84abfa"
      },
      "outputs": [],
      "source": [
        "flood_amt_df.columns"
      ]
    },
    {
      "cell_type": "code",
      "execution_count": null,
      "metadata": {
        "id": "RnIjhFuWFcGm"
      },
      "outputs": [],
      "source": [
        "sent_score = []\n",
        "\n",
        "for comp in flood_amt_df['compound']:\n",
        "    if comp > 0:\n",
        "        sent_score.append('pos')\n",
        "    elif comp == 0:\n",
        "        sent_score.append('neu')\n",
        "    else:\n",
        "        sent_score.append('neg')\n",
        "    \n",
        "flood_amt_df['sent_score']  = sent_score\n",
        "\n",
        "\n",
        "\n",
        "label_1 = []\n",
        "sentiment_score_1 =[]\n",
        "\n",
        "for index, row in flood_amt_df.iterrows():\n",
        "    if (row['Answer.sentiment.label'] == 'Positive') | (row['Answer.sentiment.label'] == 'Slightly positive'):\n",
        "        label_1.append(1)\n",
        "    elif row['Answer.sentiment.label'] == 'Neutral':\n",
        "        label_1.append(0)\n",
        "    else:\n",
        "        label_1.append(-1)\n",
        "        \n",
        "    if row['sentiment_score2'] == 'positive':\n",
        "        sentiment_score_1.append(1)\n",
        "    elif row['sentiment_score2'] == 'neutral':\n",
        "        sentiment_score_1.append(0)\n",
        "    else:\n",
        "        sentiment_score_1.append(-1)\n",
        "    \n",
        "flood_amt_df['label_1']  = label_1\n",
        "flood_amt_df['sentiment_score_1']  = sentiment_score_1"
      ]
    },
    {
      "cell_type": "code",
      "execution_count": null,
      "metadata": {
        "id": "yrW5zqo_FcGn"
      },
      "outputs": [],
      "source": [
        "sent_score_comp = []\n",
        "\n",
        "for index, row in flood_amt_df.iterrows():\n",
        "    if row['label_1'] == row['sentiment_score_1']:\n",
        "        sent_score_comp.append('same')\n",
        "    else:\n",
        "        sent_score_comp.append('different')\n",
        "    \n",
        "flood_amt_df['sent_score_comp']  = sent_score_comp\n"
      ]
    },
    {
      "cell_type": "code",
      "execution_count": null,
      "metadata": {
        "id": "SO9t_h_XFcGs",
        "outputId": "ff6bbf14-2ece-45c6-9a1e-e326ba3995db"
      },
      "outputs": [],
      "source": [
        "flood_amt_df.columns"
      ]
    },
    {
      "cell_type": "code",
      "execution_count": null,
      "metadata": {
        "id": "H7qYZ7goFcGt",
        "outputId": "752cb7cc-b765-4a15-f535-792ff596af29"
      },
      "outputs": [],
      "source": [
        "flood_amt_df.head()"
      ]
    },
    {
      "cell_type": "code",
      "execution_count": null,
      "metadata": {
        "id": "8FCxBp9KFcGt",
        "outputId": "1e8970bd-077f-4e44-af85-b84347bfe8f4"
      },
      "outputs": [],
      "source": [
        "flood_amt_df = flood_amt_df[['Input.text', 'cleaned_text', 'Answer.sentiment.label', 'sentiment_score', 'scores', 'sent_score', 'sent_score_comp','label_1',\n",
        "       'sentiment_score_1']]\n",
        "flood_amt_df.head()"
      ]
    },
    {
      "cell_type": "code",
      "execution_count": null,
      "metadata": {
        "id": "UTg713M8FcGu",
        "outputId": "998cdca3-e045-4bab-8c0b-9636ce68e1da"
      },
      "outputs": [
        {
          "data": {
            "text/plain": [
              "<AxesSubplot:title={'center':'Flood - AMT Sentiment Analysis - Hackathon'}>"
            ]
          },
          "execution_count": 17,
          "metadata": {},
          "output_type": "execute_result"
        },
        {
          "data": {
            "image/png": "[encoded data removed]",
            "text/plain": [
              "<Figure size 432x288 with 1 Axes>"
            ]
          },
          "metadata": {},
          "output_type": "display_data"
        }
      ],
      "source": [
        "flood_amt_df['Answer.sentiment.label'].value_counts().plot(kind='bar',title=\"Flood - AMT Sentiment Analysis - Hackathon\")"
      ]
    },
    {
      "cell_type": "code",
      "execution_count": null,
      "metadata": {
        "id": "fCuLoFBtFcGu",
        "outputId": "4532755e-f698-492b-c167-9134585d93fb"
      },
      "outputs": [
        {
          "data": {
            "text/plain": [
              "<AxesSubplot:title={'center':'Flood - AMT Sentiment Analysis - VADER'}>"
            ]
          },
          "execution_count": 18,
          "metadata": {},
          "output_type": "execute_result"
        },
        {
          "data": {
            "image/png": "[encoded data removed]",
            "text/plain": [
              "<Figure size 432x288 with 1 Axes>"
            ]
          },
          "metadata": {},
          "output_type": "display_data"
        }
      ],
      "source": [
        "flood_amt_df['label_1'].value_counts().plot(kind='bar',title=\"Flood - AMT Sentiment Analysis - VADER\")"
      ]
    },
    {
      "cell_type": "code",
      "execution_count": null,
      "metadata": {
        "id": "0VfHT6tPFcGv",
        "outputId": "77ea1bf0-4efc-4a30-b840-0c402502c101"
      },
      "outputs": [
        {
          "data": {
            "text/plain": [
              "<AxesSubplot:title={'center':'Flood - AMT Sentiment Analysis 2 - VADER'}>"
            ]
          },
          "execution_count": 19,
          "metadata": {},
          "output_type": "execute_result"
        },
        {
          "data": {
            "image/png": "[encoded data removed]",
            "text/plain": [
              "<Figure size 432x288 with 1 Axes>"
            ]
          },
          "metadata": {},
          "output_type": "display_data"
        }
      ],
      "source": [
        "flood_amt_df['sentiment_score_1'].value_counts().plot(kind='bar',title=\"Flood - AMT Sentiment Analysis 2 - VADER\")"
      ]
    },
    {
      "cell_type": "code",
      "execution_count": null,
      "metadata": {
        "id": "wdQ3QctiFcGv"
      },
      "outputs": [],
      "source": [
        "grouped_multiple"
      ]
    },
    {
      "cell_type": "code",
      "execution_count": null,
      "metadata": {
        "id": "GG1LgL4PFcGv",
        "outputId": "0ced19a6-515f-4da6-9e8b-aca2641782e3"
      },
      "outputs": [
        {
          "data": {
            "text/plain": [
              "array([[266, 193, 119],\n",
              "       [188, 592, 260],\n",
              "       [ 54, 110, 219]], dtype=int64)"
            ]
          },
          "execution_count": 21,
          "metadata": {},
          "output_type": "execute_result"
        }
      ],
      "source": [
        "from sklearn.metrics import confusion_matrix\n",
        "from sklearn.metrics import plot_confusion_matrix\n",
        "y_actu = flood_amt_df['label_1']\n",
        "y_pred = flood_amt_df['sentiment_score_1']\n",
        "confusion_matrix(y_actu, y_pred)\n"
      ]
    },
    {
      "cell_type": "code",
      "execution_count": null,
      "metadata": {
        "id": "vGqEd0bdFcGw",
        "outputId": "76b1b603-28b8-4636-b2a8-1eeca7986e67",
        "scrolled": true
      },
      "outputs": [],
      "source": [
        "diff_flood_amt_df = flood_amt_df[flood_amt_df['sent_score_comp'] == 'different']\n",
        "print(f'Total number of disimilar sentiment: {len(diff_flood_amt_df)}')\n",
        "diff_flood_amt_df"
      ]
    },
    {
      "cell_type": "code",
      "execution_count": null,
      "metadata": {
        "id": "K1h7XkrlFcGw"
      },
      "outputs": [],
      "source": [
        "flood_amt_df.to_csv(r'C:/Temp/flood_amt_labelled.csv')  "
      ]
    }
  ],
  "metadata": {
    "colab": {
      "include_colab_link": true,
      "name": "AMT_VADER-Copy3.ipynb",
      "provenance": []
    },
    "kernelspec": {
      "display_name": "Python 3.8.10 64-bit",
      "language": "python",
      "name": "python3"
    },
    "language_info": {
      "codemirror_mode": {
        "name": "ipython",
        "version": 3
      },
      "file_extension": ".py",
      "mimetype": "text/x-python",
      "name": "python",
      "nbconvert_exporter": "python",
      "pygments_lexer": "ipython3",
      "version": "3.8.10"
    },
    "vscode": {
      "interpreter": {
        "hash": "31f2aee4e71d21fbe5cf8b01ff0e069b9275f58929596ceb00d14d90e3e16cd6"
      }
    }
  },
  "nbformat": 4,
  "nbformat_minor": 0
}
