{
 "cells": [
  {
   "cell_type": "code",
   "execution_count": 1,
   "metadata": {
    "colab": {
     "base_uri": "https://localhost:8080/"
    },
    "executionInfo": {
     "elapsed": 20310,
     "status": "ok",
     "timestamp": 1661165784146,
     "user": {
      "displayName": "Ref Mat",
      "userId": "03081772976177259716"
     },
     "user_tz": -60
    },
    "id": "4DJUjZWPYEQG",
    "outputId": "5893015b-1ef3-4765-8dc4-840f31454504"
   },
   "outputs": [
    {
     "name": "stdout",
     "output_type": "stream",
     "text": [
      "Looking in indexes: https://pypi.org/simple, https://us-python.pkg.dev/colab-wheels/public/simple/\n",
      "Collecting transformers\n",
      "  Downloading transformers-4.21.1-py3-none-any.whl (4.7 MB)\n",
      "\u001b[K     |████████████████████████████████| 4.7 MB 7.0 MB/s \n",
      "\u001b[?25hCollecting tokenizers!=0.11.3,<0.13,>=0.11.1\n",
      "  Downloading tokenizers-0.12.1-cp37-cp37m-manylinux_2_12_x86_64.manylinux2010_x86_64.whl (6.6 MB)\n",
      "\u001b[K     |████████████████████████████████| 6.6 MB 39.6 MB/s \n",
      "\u001b[?25hRequirement already satisfied: requests in /usr/local/lib/python3.7/dist-packages (from transformers) (2.23.0)\n",
      "Requirement already satisfied: pyyaml>=5.1 in /usr/local/lib/python3.7/dist-packages (from transformers) (6.0)\n",
      "Requirement already satisfied: regex!=2019.12.17 in /usr/local/lib/python3.7/dist-packages (from transformers) (2022.6.2)\n",
      "Collecting huggingface-hub<1.0,>=0.1.0\n",
      "  Downloading huggingface_hub-0.8.1-py3-none-any.whl (101 kB)\n",
      "\u001b[K     |████████████████████████████████| 101 kB 9.4 MB/s \n",
      "\u001b[?25hRequirement already satisfied: filelock in /usr/local/lib/python3.7/dist-packages (from transformers) (3.8.0)\n",
      "Requirement already satisfied: packaging>=20.0 in /usr/local/lib/python3.7/dist-packages (from transformers) (21.3)\n",
      "Requirement already satisfied: importlib-metadata in /usr/local/lib/python3.7/dist-packages (from transformers) (4.12.0)\n",
      "Requirement already satisfied: numpy>=1.17 in /usr/local/lib/python3.7/dist-packages (from transformers) (1.21.6)\n",
      "Requirement already satisfied: tqdm>=4.27 in /usr/local/lib/python3.7/dist-packages (from transformers) (4.64.0)\n",
      "Requirement already satisfied: typing-extensions>=3.7.4.3 in /usr/local/lib/python3.7/dist-packages (from huggingface-hub<1.0,>=0.1.0->transformers) (4.1.1)\n",
      "Requirement already satisfied: pyparsing!=3.0.5,>=2.0.2 in /usr/local/lib/python3.7/dist-packages (from packaging>=20.0->transformers) (3.0.9)\n",
      "Requirement already satisfied: zipp>=0.5 in /usr/local/lib/python3.7/dist-packages (from importlib-metadata->transformers) (3.8.1)\n",
      "Requirement already satisfied: idna<3,>=2.5 in /usr/local/lib/python3.7/dist-packages (from requests->transformers) (2.10)\n",
      "Requirement already satisfied: chardet<4,>=3.0.2 in /usr/local/lib/python3.7/dist-packages (from requests->transformers) (3.0.4)\n",
      "Requirement already satisfied: urllib3!=1.25.0,!=1.25.1,<1.26,>=1.21.1 in /usr/local/lib/python3.7/dist-packages (from requests->transformers) (1.24.3)\n",
      "Requirement already satisfied: certifi>=2017.4.17 in /usr/local/lib/python3.7/dist-packages (from requests->transformers) (2022.6.15)\n",
      "Installing collected packages: tokenizers, huggingface-hub, transformers\n",
      "Successfully installed huggingface-hub-0.8.1 tokenizers-0.12.1 transformers-4.21.1\n"
     ]
    }
   ],
   "source": [
    "!pip install transformers"
   ]
  },
  {
   "cell_type": "code",
   "execution_count": 2,
   "metadata": {
    "executionInfo": {
     "elapsed": 13796,
     "status": "ok",
     "timestamp": 1661165802652,
     "user": {
      "displayName": "Ref Mat",
      "userId": "03081772976177259716"
     },
     "user_tz": -60
    },
    "id": "B0DM8xBZX7Pw"
   },
   "outputs": [],
   "source": [
    "import pandas as pd\n",
    "import numpy as np\n",
    "import seaborn as sns\n",
    "from matplotlib import pyplot as plt\n",
    "import torch\n",
    "from transformers import AutoTokenizer, AutoModelForSequenceClassification\n",
    "from transformers import pipeline\n",
    "import re\n",
    "import random"
   ]
  },
  {
   "cell_type": "markdown",
   "metadata": {
    "id": "Cddob5AeUb7Q"
   },
   "source": [
    "# Storm_Christoph:"
   ]
  },
  {
   "cell_type": "code",
   "execution_count": 36,
   "metadata": {
    "executionInfo": {
     "elapsed": 219,
     "status": "ok",
     "timestamp": 1661167061209,
     "user": {
      "displayName": "Ref Mat",
      "userId": "03081772976177259716"
     },
     "user_tz": -60
    },
    "id": "4pbOTbyjZIku"
   },
   "outputs": [],
   "source": [
    "df = pd.read_csv('/content/drive/MyDrive/Colab Notebooks/Hackathon/NSWFloods-full.csv', names = ['id','tweet'])"
   ]
  },
  {
   "cell_type": "code",
   "execution_count": 37,
   "metadata": {
    "colab": {
     "base_uri": "https://localhost:8080/",
     "height": 424
    },
    "executionInfo": {
     "elapsed": 6,
     "status": "ok",
     "timestamp": 1661167061843,
     "user": {
      "displayName": "Ref Mat",
      "userId": "03081772976177259716"
     },
     "user_tz": -60
    },
    "id": "881L8mJgcm6-",
    "outputId": "388432a7-9394-4b4e-9031-2fc2ad1b2512"
   },
   "outputs": [
    {
     "data": {
      "text/html": [
       "\n",
       "  <div id=\"df-8dc7b823-813d-427f-9b0a-93ab702f44f4\">\n",
       "    <div class=\"colab-df-container\">\n",
       "      <div>\n",
       "<style scoped>\n",
       "    .dataframe tbody tr th:only-of-type {\n",
       "        vertical-align: middle;\n",
       "    }\n",
       "\n",
       "    .dataframe tbody tr th {\n",
       "        vertical-align: top;\n",
       "    }\n",
       "\n",
       "    .dataframe thead th {\n",
       "        text-align: right;\n",
       "    }\n",
       "</style>\n",
       "<table border=\"1\" class=\"dataframe\">\n",
       "  <thead>\n",
       "    <tr style=\"text-align: right;\">\n",
       "      <th></th>\n",
       "      <th>id</th>\n",
       "      <th>tweet</th>\n",
       "    </tr>\n",
       "  </thead>\n",
       "  <tbody>\n",
       "    <tr>\n",
       "      <th>0</th>\n",
       "      <td>D0b68jVnBE4l9f1On001cg</td>\n",
       "      <td>⚠️Updated Moderate #Flood Warning issued for t...</td>\n",
       "    </tr>\n",
       "    <tr>\n",
       "      <th>1</th>\n",
       "      <td>ZbOcM3d3basI9BtWuMRAoA</td>\n",
       "      <td>⚠️Initial #Flood Warning issued for the #Hasti...</td>\n",
       "    </tr>\n",
       "    <tr>\n",
       "      <th>2</th>\n",
       "      <td>YXie--2WpgYgKknpibF7yg</td>\n",
       "      <td>⚠️Initial #Flood Warning issued for the #Cooks...</td>\n",
       "    </tr>\n",
       "    <tr>\n",
       "      <th>3</th>\n",
       "      <td>2Qy9w_29npc8ic3xk4b9pw</td>\n",
       "      <td>⚠️ #Flood Watch issued for the Belubula and Tu...</td>\n",
       "    </tr>\n",
       "    <tr>\n",
       "      <th>4</th>\n",
       "      <td>8LvJZ4yjapp_dAToTiQR3A</td>\n",
       "      <td>NSW Flood Watch for Belubula and Tumut Rivers....</td>\n",
       "    </tr>\n",
       "    <tr>\n",
       "      <th>...</th>\n",
       "      <td>...</td>\n",
       "      <td>...</td>\n",
       "    </tr>\n",
       "    <tr>\n",
       "      <th>15984</th>\n",
       "      <td>DwVOnBIS3Thf3Zru-RXdlg</td>\n",
       "      <td>@98mO0Izh9S6gMjxej_FTXA As long as he is not i...</td>\n",
       "    </tr>\n",
       "    <tr>\n",
       "      <th>15985</th>\n",
       "      <td>lqAz46CuTiWWUJPZDKum8A</td>\n",
       "      <td>@7Md9QLKM7IET5g2rCJTUYQ @hnNjuTCG1kjJqgp4KUmhV...</td>\n",
       "    </tr>\n",
       "    <tr>\n",
       "      <th>15986</th>\n",
       "      <td>_kLWfTg0Q4-sLMIbCPoRQg</td>\n",
       "      <td>@8h2KzGMamZag4K4hkq7EAQ Oh my.</td>\n",
       "    </tr>\n",
       "    <tr>\n",
       "      <th>15987</th>\n",
       "      <td>qBZvLidlzzH9z6QF_KwkZg</td>\n",
       "      <td>@U1B-mS4EDA4dVUwt79OJxw Thank you lovely x</td>\n",
       "    </tr>\n",
       "    <tr>\n",
       "      <th>15988</th>\n",
       "      <td>HNX1KECzKtlsc33M4DWuwQ</td>\n",
       "      <td>@-rDmzxoLSorvQldnn9n40A Take care! x</td>\n",
       "    </tr>\n",
       "  </tbody>\n",
       "</table>\n",
       "<p>15989 rows × 2 columns</p>\n",
       "</div>\n",
       "      <button class=\"colab-df-convert\" onclick=\"convertToInteractive('df-8dc7b823-813d-427f-9b0a-93ab702f44f4')\"\n",
       "              title=\"Convert this dataframe to an interactive table.\"\n",
       "              style=\"display:none;\">\n",
       "        \n",
       "  <svg xmlns=\"http://www.w3.org/2000/svg\" height=\"24px\"viewBox=\"0 0 24 24\"\n",
       "       width=\"24px\">\n",
       "    <path d=\"M0 0h24v24H0V0z\" fill=\"none\"/>\n",
       "    <path d=\"M18.56 5.44l.94 2.06.94-2.06 2.06-.94-2.06-.94-.94-2.06-.94 2.06-2.06.94zm-11 1L8.5 8.5l.94-2.06 2.06-.94-2.06-.94L8.5 2.5l-.94 2.06-2.06.94zm10 10l.94 2.06.94-2.06 2.06-.94-2.06-.94-.94-2.06-.94 2.06-2.06.94z\"/><path d=\"M17.41 7.96l-1.37-1.37c-.4-.4-.92-.59-1.43-.59-.52 0-1.04.2-1.43.59L10.3 9.45l-7.72 7.72c-.78.78-.78 2.05 0 2.83L4 21.41c.39.39.9.59 1.41.59.51 0 1.02-.2 1.41-.59l7.78-7.78 2.81-2.81c.8-.78.8-2.07 0-2.86zM5.41 20L4 18.59l7.72-7.72 1.47 1.35L5.41 20z\"/>\n",
       "  </svg>\n",
       "      </button>\n",
       "      \n",
       "  <style>\n",
       "    .colab-df-container {\n",
       "      display:flex;\n",
       "      flex-wrap:wrap;\n",
       "      gap: 12px;\n",
       "    }\n",
       "\n",
       "    .colab-df-convert {\n",
       "      background-color: #E8F0FE;\n",
       "      border: none;\n",
       "      border-radius: 50%;\n",
       "      cursor: pointer;\n",
       "      display: none;\n",
       "      fill: #1967D2;\n",
       "      height: 32px;\n",
       "      padding: 0 0 0 0;\n",
       "      width: 32px;\n",
       "    }\n",
       "\n",
       "    .colab-df-convert:hover {\n",
       "      background-color: #E2EBFA;\n",
       "      box-shadow: 0px 1px 2px rgba(60, 64, 67, 0.3), 0px 1px 3px 1px rgba(60, 64, 67, 0.15);\n",
       "      fill: #174EA6;\n",
       "    }\n",
       "\n",
       "    [theme=dark] .colab-df-convert {\n",
       "      background-color: #3B4455;\n",
       "      fill: #D2E3FC;\n",
       "    }\n",
       "\n",
       "    [theme=dark] .colab-df-convert:hover {\n",
       "      background-color: #434B5C;\n",
       "      box-shadow: 0px 1px 3px 1px rgba(0, 0, 0, 0.15);\n",
       "      filter: drop-shadow(0px 1px 2px rgba(0, 0, 0, 0.3));\n",
       "      fill: #FFFFFF;\n",
       "    }\n",
       "  </style>\n",
       "\n",
       "      <script>\n",
       "        const buttonEl =\n",
       "          document.querySelector('#df-8dc7b823-813d-427f-9b0a-93ab702f44f4 button.colab-df-convert');\n",
       "        buttonEl.style.display =\n",
       "          google.colab.kernel.accessAllowed ? 'block' : 'none';\n",
       "\n",
       "        async function convertToInteractive(key) {\n",
       "          const element = document.querySelector('#df-8dc7b823-813d-427f-9b0a-93ab702f44f4');\n",
       "          const dataTable =\n",
       "            await google.colab.kernel.invokeFunction('convertToInteractive',\n",
       "                                                     [key], {});\n",
       "          if (!dataTable) return;\n",
       "\n",
       "          const docLinkHtml = 'Like what you see? Visit the ' +\n",
       "            '<a target=\"_blank\" href=https://colab.research.google.com/notebooks/data_table.ipynb>data table notebook</a>'\n",
       "            + ' to learn more about interactive tables.';\n",
       "          element.innerHTML = '';\n",
       "          dataTable['output_type'] = 'display_data';\n",
       "          await google.colab.output.renderOutput(dataTable, element);\n",
       "          const docLink = document.createElement('div');\n",
       "          docLink.innerHTML = docLinkHtml;\n",
       "          element.appendChild(docLink);\n",
       "        }\n",
       "      </script>\n",
       "    </div>\n",
       "  </div>\n",
       "  "
      ],
      "text/plain": [
       "                           id  \\\n",
       "0      D0b68jVnBE4l9f1On001cg   \n",
       "1      ZbOcM3d3basI9BtWuMRAoA   \n",
       "2      YXie--2WpgYgKknpibF7yg   \n",
       "3      2Qy9w_29npc8ic3xk4b9pw   \n",
       "4      8LvJZ4yjapp_dAToTiQR3A   \n",
       "...                       ...   \n",
       "15984  DwVOnBIS3Thf3Zru-RXdlg   \n",
       "15985  lqAz46CuTiWWUJPZDKum8A   \n",
       "15986  _kLWfTg0Q4-sLMIbCPoRQg   \n",
       "15987  qBZvLidlzzH9z6QF_KwkZg   \n",
       "15988  HNX1KECzKtlsc33M4DWuwQ   \n",
       "\n",
       "                                                   tweet  \n",
       "0      ⚠️Updated Moderate #Flood Warning issued for t...  \n",
       "1      ⚠️Initial #Flood Warning issued for the #Hasti...  \n",
       "2      ⚠️Initial #Flood Warning issued for the #Cooks...  \n",
       "3      ⚠️ #Flood Watch issued for the Belubula and Tu...  \n",
       "4      NSW Flood Watch for Belubula and Tumut Rivers....  \n",
       "...                                                  ...  \n",
       "15984  @98mO0Izh9S6gMjxej_FTXA As long as he is not i...  \n",
       "15985  @7Md9QLKM7IET5g2rCJTUYQ @hnNjuTCG1kjJqgp4KUmhV...  \n",
       "15986                     @8h2KzGMamZag4K4hkq7EAQ Oh my.  \n",
       "15987         @U1B-mS4EDA4dVUwt79OJxw Thank you lovely x  \n",
       "15988               @-rDmzxoLSorvQldnn9n40A Take care! x  \n",
       "\n",
       "[15989 rows x 2 columns]"
      ]
     },
     "execution_count": 37,
     "metadata": {},
     "output_type": "execute_result"
    }
   ],
   "source": [
    "df"
   ]
  },
  {
   "cell_type": "code",
   "execution_count": 38,
   "metadata": {
    "executionInfo": {
     "elapsed": 338,
     "status": "ok",
     "timestamp": 1661167066348,
     "user": {
      "displayName": "Ref Mat",
      "userId": "03081772976177259716"
     },
     "user_tz": -60
    },
    "id": "SaqBRLAdCje0"
   },
   "outputs": [],
   "source": [
    "df.drop(columns = 'id', inplace = True)"
   ]
  },
  {
   "cell_type": "code",
   "execution_count": 39,
   "metadata": {
    "colab": {
     "base_uri": "https://localhost:8080/",
     "height": 424
    },
    "executionInfo": {
     "elapsed": 3,
     "status": "ok",
     "timestamp": 1661167067037,
     "user": {
      "displayName": "Ref Mat",
      "userId": "03081772976177259716"
     },
     "user_tz": -60
    },
    "id": "GyahLkgRNhG3",
    "outputId": "61e580f1-be93-4f7f-fe22-ffa986df2574"
   },
   "outputs": [
    {
     "data": {
      "text/html": [
       "\n",
       "  <div id=\"df-a70b42bb-922e-4dc5-b378-3e55220fc664\">\n",
       "    <div class=\"colab-df-container\">\n",
       "      <div>\n",
       "<style scoped>\n",
       "    .dataframe tbody tr th:only-of-type {\n",
       "        vertical-align: middle;\n",
       "    }\n",
       "\n",
       "    .dataframe tbody tr th {\n",
       "        vertical-align: top;\n",
       "    }\n",
       "\n",
       "    .dataframe thead th {\n",
       "        text-align: right;\n",
       "    }\n",
       "</style>\n",
       "<table border=\"1\" class=\"dataframe\">\n",
       "  <thead>\n",
       "    <tr style=\"text-align: right;\">\n",
       "      <th></th>\n",
       "      <th>tweet</th>\n",
       "    </tr>\n",
       "  </thead>\n",
       "  <tbody>\n",
       "    <tr>\n",
       "      <th>0</th>\n",
       "      <td>⚠️Updated Moderate #Flood Warning issued for t...</td>\n",
       "    </tr>\n",
       "    <tr>\n",
       "      <th>1</th>\n",
       "      <td>⚠️Initial #Flood Warning issued for the #Hasti...</td>\n",
       "    </tr>\n",
       "    <tr>\n",
       "      <th>2</th>\n",
       "      <td>⚠️Initial #Flood Warning issued for the #Cooks...</td>\n",
       "    </tr>\n",
       "    <tr>\n",
       "      <th>3</th>\n",
       "      <td>⚠️ #Flood Watch issued for the Belubula and Tu...</td>\n",
       "    </tr>\n",
       "    <tr>\n",
       "      <th>4</th>\n",
       "      <td>NSW Flood Watch for Belubula and Tumut Rivers....</td>\n",
       "    </tr>\n",
       "    <tr>\n",
       "      <th>...</th>\n",
       "      <td>...</td>\n",
       "    </tr>\n",
       "    <tr>\n",
       "      <th>15984</th>\n",
       "      <td>@98mO0Izh9S6gMjxej_FTXA As long as he is not i...</td>\n",
       "    </tr>\n",
       "    <tr>\n",
       "      <th>15985</th>\n",
       "      <td>@7Md9QLKM7IET5g2rCJTUYQ @hnNjuTCG1kjJqgp4KUmhV...</td>\n",
       "    </tr>\n",
       "    <tr>\n",
       "      <th>15986</th>\n",
       "      <td>@8h2KzGMamZag4K4hkq7EAQ Oh my.</td>\n",
       "    </tr>\n",
       "    <tr>\n",
       "      <th>15987</th>\n",
       "      <td>@U1B-mS4EDA4dVUwt79OJxw Thank you lovely x</td>\n",
       "    </tr>\n",
       "    <tr>\n",
       "      <th>15988</th>\n",
       "      <td>@-rDmzxoLSorvQldnn9n40A Take care! x</td>\n",
       "    </tr>\n",
       "  </tbody>\n",
       "</table>\n",
       "<p>15989 rows × 1 columns</p>\n",
       "</div>\n",
       "      <button class=\"colab-df-convert\" onclick=\"convertToInteractive('df-a70b42bb-922e-4dc5-b378-3e55220fc664')\"\n",
       "              title=\"Convert this dataframe to an interactive table.\"\n",
       "              style=\"display:none;\">\n",
       "        \n",
       "  <svg xmlns=\"http://www.w3.org/2000/svg\" height=\"24px\"viewBox=\"0 0 24 24\"\n",
       "       width=\"24px\">\n",
       "    <path d=\"M0 0h24v24H0V0z\" fill=\"none\"/>\n",
       "    <path d=\"M18.56 5.44l.94 2.06.94-2.06 2.06-.94-2.06-.94-.94-2.06-.94 2.06-2.06.94zm-11 1L8.5 8.5l.94-2.06 2.06-.94-2.06-.94L8.5 2.5l-.94 2.06-2.06.94zm10 10l.94 2.06.94-2.06 2.06-.94-2.06-.94-.94-2.06-.94 2.06-2.06.94z\"/><path d=\"M17.41 7.96l-1.37-1.37c-.4-.4-.92-.59-1.43-.59-.52 0-1.04.2-1.43.59L10.3 9.45l-7.72 7.72c-.78.78-.78 2.05 0 2.83L4 21.41c.39.39.9.59 1.41.59.51 0 1.02-.2 1.41-.59l7.78-7.78 2.81-2.81c.8-.78.8-2.07 0-2.86zM5.41 20L4 18.59l7.72-7.72 1.47 1.35L5.41 20z\"/>\n",
       "  </svg>\n",
       "      </button>\n",
       "      \n",
       "  <style>\n",
       "    .colab-df-container {\n",
       "      display:flex;\n",
       "      flex-wrap:wrap;\n",
       "      gap: 12px;\n",
       "    }\n",
       "\n",
       "    .colab-df-convert {\n",
       "      background-color: #E8F0FE;\n",
       "      border: none;\n",
       "      border-radius: 50%;\n",
       "      cursor: pointer;\n",
       "      display: none;\n",
       "      fill: #1967D2;\n",
       "      height: 32px;\n",
       "      padding: 0 0 0 0;\n",
       "      width: 32px;\n",
       "    }\n",
       "\n",
       "    .colab-df-convert:hover {\n",
       "      background-color: #E2EBFA;\n",
       "      box-shadow: 0px 1px 2px rgba(60, 64, 67, 0.3), 0px 1px 3px 1px rgba(60, 64, 67, 0.15);\n",
       "      fill: #174EA6;\n",
       "    }\n",
       "\n",
       "    [theme=dark] .colab-df-convert {\n",
       "      background-color: #3B4455;\n",
       "      fill: #D2E3FC;\n",
       "    }\n",
       "\n",
       "    [theme=dark] .colab-df-convert:hover {\n",
       "      background-color: #434B5C;\n",
       "      box-shadow: 0px 1px 3px 1px rgba(0, 0, 0, 0.15);\n",
       "      filter: drop-shadow(0px 1px 2px rgba(0, 0, 0, 0.3));\n",
       "      fill: #FFFFFF;\n",
       "    }\n",
       "  </style>\n",
       "\n",
       "      <script>\n",
       "        const buttonEl =\n",
       "          document.querySelector('#df-a70b42bb-922e-4dc5-b378-3e55220fc664 button.colab-df-convert');\n",
       "        buttonEl.style.display =\n",
       "          google.colab.kernel.accessAllowed ? 'block' : 'none';\n",
       "\n",
       "        async function convertToInteractive(key) {\n",
       "          const element = document.querySelector('#df-a70b42bb-922e-4dc5-b378-3e55220fc664');\n",
       "          const dataTable =\n",
       "            await google.colab.kernel.invokeFunction('convertToInteractive',\n",
       "                                                     [key], {});\n",
       "          if (!dataTable) return;\n",
       "\n",
       "          const docLinkHtml = 'Like what you see? Visit the ' +\n",
       "            '<a target=\"_blank\" href=https://colab.research.google.com/notebooks/data_table.ipynb>data table notebook</a>'\n",
       "            + ' to learn more about interactive tables.';\n",
       "          element.innerHTML = '';\n",
       "          dataTable['output_type'] = 'display_data';\n",
       "          await google.colab.output.renderOutput(dataTable, element);\n",
       "          const docLink = document.createElement('div');\n",
       "          docLink.innerHTML = docLinkHtml;\n",
       "          element.appendChild(docLink);\n",
       "        }\n",
       "      </script>\n",
       "    </div>\n",
       "  </div>\n",
       "  "
      ],
      "text/plain": [
       "                                                   tweet\n",
       "0      ⚠️Updated Moderate #Flood Warning issued for t...\n",
       "1      ⚠️Initial #Flood Warning issued for the #Hasti...\n",
       "2      ⚠️Initial #Flood Warning issued for the #Cooks...\n",
       "3      ⚠️ #Flood Watch issued for the Belubula and Tu...\n",
       "4      NSW Flood Watch for Belubula and Tumut Rivers....\n",
       "...                                                  ...\n",
       "15984  @98mO0Izh9S6gMjxej_FTXA As long as he is not i...\n",
       "15985  @7Md9QLKM7IET5g2rCJTUYQ @hnNjuTCG1kjJqgp4KUmhV...\n",
       "15986                     @8h2KzGMamZag4K4hkq7EAQ Oh my.\n",
       "15987         @U1B-mS4EDA4dVUwt79OJxw Thank you lovely x\n",
       "15988               @-rDmzxoLSorvQldnn9n40A Take care! x\n",
       "\n",
       "[15989 rows x 1 columns]"
      ]
     },
     "execution_count": 39,
     "metadata": {},
     "output_type": "execute_result"
    }
   ],
   "source": [
    "df"
   ]
  },
  {
   "cell_type": "markdown",
   "metadata": {
    "id": "KdP6DtMScbsO"
   },
   "source": [
    "# Filtering English tweets:"
   ]
  },
  {
   "cell_type": "code",
   "execution_count": null,
   "metadata": {
    "id": "GVabV5e7cbP2"
   },
   "outputs": [],
   "source": [
    "# If required run this cell\n",
    "filt = (df['lang'] == 'en')\n",
    "en_df = df[filt]\n",
    "en_df"
   ]
  },
  {
   "cell_type": "markdown",
   "metadata": {
    "id": "OYxNawJrd0gf"
   },
   "source": [
    "# Preprocess the data:"
   ]
  },
  {
   "cell_type": "code",
   "execution_count": 7,
   "metadata": {
    "colab": {
     "base_uri": "https://localhost:8080/",
     "height": 424
    },
    "executionInfo": {
     "elapsed": 344,
     "status": "ok",
     "timestamp": 1661166160174,
     "user": {
      "displayName": "Ref Mat",
      "userId": "03081772976177259716"
     },
     "user_tz": -60
    },
    "id": "bItGt8JRdynn",
    "outputId": "162f3532-2070-46a0-9764-6806366a0cf8"
   },
   "outputs": [
    {
     "data": {
      "text/html": [
       "\n",
       "  <div id=\"df-fcd64db6-a382-4a25-9880-706920c07369\">\n",
       "    <div class=\"colab-df-container\">\n",
       "      <div>\n",
       "<style scoped>\n",
       "    .dataframe tbody tr th:only-of-type {\n",
       "        vertical-align: middle;\n",
       "    }\n",
       "\n",
       "    .dataframe tbody tr th {\n",
       "        vertical-align: top;\n",
       "    }\n",
       "\n",
       "    .dataframe thead th {\n",
       "        text-align: right;\n",
       "    }\n",
       "</style>\n",
       "<table border=\"1\" class=\"dataframe\">\n",
       "  <thead>\n",
       "    <tr style=\"text-align: right;\">\n",
       "      <th></th>\n",
       "      <th>tweet</th>\n",
       "      <th>sentiment</th>\n",
       "    </tr>\n",
       "  </thead>\n",
       "  <tbody>\n",
       "    <tr>\n",
       "      <th>0</th>\n",
       "      <td>Updated Moderate Flood Warning issued for the ...</td>\n",
       "      <td>NaN</td>\n",
       "    </tr>\n",
       "    <tr>\n",
       "      <th>1</th>\n",
       "      <td>Initial Flood Warning issued for the Hastings ...</td>\n",
       "      <td>NaN</td>\n",
       "    </tr>\n",
       "    <tr>\n",
       "      <th>2</th>\n",
       "      <td>Initial Flood Warning issued for the Cooks Riv...</td>\n",
       "      <td>NaN</td>\n",
       "    </tr>\n",
       "    <tr>\n",
       "      <th>3</th>\n",
       "      <td>Flood Watch issued for the Belubula and Tumut...</td>\n",
       "      <td>NaN</td>\n",
       "    </tr>\n",
       "    <tr>\n",
       "      <th>4</th>\n",
       "      <td>NSW Flood Watch for Belubula and Tumut Rivers ...</td>\n",
       "      <td>NaN</td>\n",
       "    </tr>\n",
       "    <tr>\n",
       "      <th>...</th>\n",
       "      <td>...</td>\n",
       "      <td>...</td>\n",
       "    </tr>\n",
       "    <tr>\n",
       "      <th>15984</th>\n",
       "      <td>As long as he is not in Melbourne or anywhere...</td>\n",
       "      <td>NaN</td>\n",
       "    </tr>\n",
       "    <tr>\n",
       "      <th>15985</th>\n",
       "      <td>If they had stopped us then why the following</td>\n",
       "      <td>NaN</td>\n",
       "    </tr>\n",
       "    <tr>\n",
       "      <th>15986</th>\n",
       "      <td>Oh my</td>\n",
       "      <td>NaN</td>\n",
       "    </tr>\n",
       "    <tr>\n",
       "      <th>15987</th>\n",
       "      <td>Thank you lovely x</td>\n",
       "      <td>NaN</td>\n",
       "    </tr>\n",
       "    <tr>\n",
       "      <th>15988</th>\n",
       "      <td>Take care x</td>\n",
       "      <td>NaN</td>\n",
       "    </tr>\n",
       "  </tbody>\n",
       "</table>\n",
       "<p>15989 rows × 2 columns</p>\n",
       "</div>\n",
       "      <button class=\"colab-df-convert\" onclick=\"convertToInteractive('df-fcd64db6-a382-4a25-9880-706920c07369')\"\n",
       "              title=\"Convert this dataframe to an interactive table.\"\n",
       "              style=\"display:none;\">\n",
       "        \n",
       "  <svg xmlns=\"http://www.w3.org/2000/svg\" height=\"24px\"viewBox=\"0 0 24 24\"\n",
       "       width=\"24px\">\n",
       "    <path d=\"M0 0h24v24H0V0z\" fill=\"none\"/>\n",
       "    <path d=\"M18.56 5.44l.94 2.06.94-2.06 2.06-.94-2.06-.94-.94-2.06-.94 2.06-2.06.94zm-11 1L8.5 8.5l.94-2.06 2.06-.94-2.06-.94L8.5 2.5l-.94 2.06-2.06.94zm10 10l.94 2.06.94-2.06 2.06-.94-2.06-.94-.94-2.06-.94 2.06-2.06.94z\"/><path d=\"M17.41 7.96l-1.37-1.37c-.4-.4-.92-.59-1.43-.59-.52 0-1.04.2-1.43.59L10.3 9.45l-7.72 7.72c-.78.78-.78 2.05 0 2.83L4 21.41c.39.39.9.59 1.41.59.51 0 1.02-.2 1.41-.59l7.78-7.78 2.81-2.81c.8-.78.8-2.07 0-2.86zM5.41 20L4 18.59l7.72-7.72 1.47 1.35L5.41 20z\"/>\n",
       "  </svg>\n",
       "      </button>\n",
       "      \n",
       "  <style>\n",
       "    .colab-df-container {\n",
       "      display:flex;\n",
       "      flex-wrap:wrap;\n",
       "      gap: 12px;\n",
       "    }\n",
       "\n",
       "    .colab-df-convert {\n",
       "      background-color: #E8F0FE;\n",
       "      border: none;\n",
       "      border-radius: 50%;\n",
       "      cursor: pointer;\n",
       "      display: none;\n",
       "      fill: #1967D2;\n",
       "      height: 32px;\n",
       "      padding: 0 0 0 0;\n",
       "      width: 32px;\n",
       "    }\n",
       "\n",
       "    .colab-df-convert:hover {\n",
       "      background-color: #E2EBFA;\n",
       "      box-shadow: 0px 1px 2px rgba(60, 64, 67, 0.3), 0px 1px 3px 1px rgba(60, 64, 67, 0.15);\n",
       "      fill: #174EA6;\n",
       "    }\n",
       "\n",
       "    [theme=dark] .colab-df-convert {\n",
       "      background-color: #3B4455;\n",
       "      fill: #D2E3FC;\n",
       "    }\n",
       "\n",
       "    [theme=dark] .colab-df-convert:hover {\n",
       "      background-color: #434B5C;\n",
       "      box-shadow: 0px 1px 3px 1px rgba(0, 0, 0, 0.15);\n",
       "      filter: drop-shadow(0px 1px 2px rgba(0, 0, 0, 0.3));\n",
       "      fill: #FFFFFF;\n",
       "    }\n",
       "  </style>\n",
       "\n",
       "      <script>\n",
       "        const buttonEl =\n",
       "          document.querySelector('#df-fcd64db6-a382-4a25-9880-706920c07369 button.colab-df-convert');\n",
       "        buttonEl.style.display =\n",
       "          google.colab.kernel.accessAllowed ? 'block' : 'none';\n",
       "\n",
       "        async function convertToInteractive(key) {\n",
       "          const element = document.querySelector('#df-fcd64db6-a382-4a25-9880-706920c07369');\n",
       "          const dataTable =\n",
       "            await google.colab.kernel.invokeFunction('convertToInteractive',\n",
       "                                                     [key], {});\n",
       "          if (!dataTable) return;\n",
       "\n",
       "          const docLinkHtml = 'Like what you see? Visit the ' +\n",
       "            '<a target=\"_blank\" href=https://colab.research.google.com/notebooks/data_table.ipynb>data table notebook</a>'\n",
       "            + ' to learn more about interactive tables.';\n",
       "          element.innerHTML = '';\n",
       "          dataTable['output_type'] = 'display_data';\n",
       "          await google.colab.output.renderOutput(dataTable, element);\n",
       "          const docLink = document.createElement('div');\n",
       "          docLink.innerHTML = docLinkHtml;\n",
       "          element.appendChild(docLink);\n",
       "        }\n",
       "      </script>\n",
       "    </div>\n",
       "  </div>\n",
       "  "
      ],
      "text/plain": [
       "                                                   tweet sentiment\n",
       "0      Updated Moderate Flood Warning issued for the ...       NaN\n",
       "1      Initial Flood Warning issued for the Hastings ...       NaN\n",
       "2      Initial Flood Warning issued for the Cooks Riv...       NaN\n",
       "3       Flood Watch issued for the Belubula and Tumut...       NaN\n",
       "4      NSW Flood Watch for Belubula and Tumut Rivers ...       NaN\n",
       "...                                                  ...       ...\n",
       "15984   As long as he is not in Melbourne or anywhere...       NaN\n",
       "15985    If they had stopped us then why the following         NaN\n",
       "15986                                              Oh my       NaN\n",
       "15987                                 Thank you lovely x       NaN\n",
       "15988                                        Take care x       NaN\n",
       "\n",
       "[15989 rows x 2 columns]"
      ]
     },
     "execution_count": 7,
     "metadata": {},
     "output_type": "execute_result"
    }
   ],
   "source": [
    "# if data needs to be cleaned, run this cell\n",
    "sentiment_df = pd.DataFrame(columns = ['tweet', 'sentiment'])\n",
    "sentiment_df['tweet'] = df['tweet']\n",
    "\n",
    "sentiment_df['tweet'] = sentiment_df['tweet'].apply(lambda x: re.sub(r'https?://\\S+', '', x))\n",
    "sentiment_df['tweet'] = sentiment_df['tweet'].apply(lambda x: re.sub(r'@\\S+', '', x))\n",
    "sentiment_df['tweet'] = sentiment_df['tweet'].apply(lambda x: re.sub(r'[^0-9a-zA-Z- ]+', '', x))\n",
    "\n",
    "sentiment_df.reset_index(drop = True, inplace = True)\n",
    "sentiment_df"
   ]
  },
  {
   "cell_type": "markdown",
   "metadata": {
    "id": "vEVDqk88es2H"
   },
   "source": [
    "## Ultil Functions (Predictor_class):"
   ]
  },
  {
   "cell_type": "code",
   "execution_count": 40,
   "metadata": {
    "executionInfo": {
     "elapsed": 210,
     "status": "ok",
     "timestamp": 1661167071069,
     "user": {
      "displayName": "Ref Mat",
      "userId": "03081772976177259716"
     },
     "user_tz": -60
    },
    "id": "2w83Xi8Wdzft"
   },
   "outputs": [],
   "source": [
    "#Util functions:\n",
    "#------------------\n",
    "\n",
    "# BERT model:\n",
    "class SentimentModel:\n",
    "  def __init__(self):\n",
    "    # self._data = data\n",
    "    self._tokenizer = AutoTokenizer.from_pretrained('nlptown/bert-base-multilingual-uncased-sentiment')\n",
    "    self._model = AutoModelForSequenceClassification.from_pretrained('nlptown/bert-base-multilingual-uncased-sentiment')\n",
    "\n",
    "  def predict_sentiment(self,tweet):\n",
    "    tweet = re.sub(r'https?://\\S+', '', tweet)\n",
    "    tweet = re.sub(r'[^0-9a-zA-Z- ]+', '', tweet)\n",
    "    tokens = self._tokenizer.encode(tweet, return_tensors = 'pt')\n",
    "    result = self._model(tokens)\n",
    "    print(f'--THE SENTIMENT OF THE TWEET - {tweet}  : {int(torch.argmax(result.logits)) + 1}\\n')\n",
    "\n",
    "\n",
    "#------------------\n",
    "\n",
    "# RoBERTa Model:\n",
    "class ZeroShotClassifier:\n",
    "  def __init__(self, zs_model = 'roberta-large-mnli'):\n",
    "    self._classifier = pipeline('zero-shot-classification', model= zs_model)\n",
    "    self._labels = ['positive', 'neutral', 'negative']\n",
    "    self._tweets = None\n",
    "\n",
    "  def _preprocess(self, text):\n",
    "    text = re.sub(r'https?://\\S+', '', text)\n",
    "    text = re.sub(r'[^0-9a-zA-Z- ]+', '', text)\n",
    "    return text\n",
    "\n",
    "  def fit(self, text):\n",
    "    if isinstance(text,pd.DataFrame):\n",
    "      self._tweets = text['text'].apply(self._preprocess).values\n",
    "    self._tweets = self._preprocess(text)\n",
    "\n",
    "  def predict(self):\n",
    "    _hypothesis_template = 'The sentiment of this review is {}.'\n",
    "    if isinstance(self._tweets,list):\n",
    "      for tweet in self._tweets:\n",
    "        _sentiment = self._classifier(tweet, self._labels, hypothesis_template = _hypothesis_template)\n",
    "        print(f'--THE SENTIMENT OF THE TWEET - {tweet}  : {_sentiment[\"labels\"][0]}\\n')\n",
    "    else:\n",
    "      _sentiment = self._classifier(self._tweets, self._labels, hypothesis_template = _hypothesis_template)\n",
    "      print(f'--THE SENTIMENT OF THE TWEET - {self._tweets}  : {_sentiment[\"labels\"][0]}\\n')\n",
    "            "
   ]
  },
  {
   "cell_type": "markdown",
   "metadata": {
    "id": "MDJa2XR8e_nu"
   },
   "source": [
    "# BERT Pretrained model:"
   ]
  },
  {
   "cell_type": "code",
   "execution_count": null,
   "metadata": {
    "id": "VBo8z_fle-68"
   },
   "outputs": [],
   "source": [
    "model =  SentimentModel()"
   ]
  },
  {
   "cell_type": "code",
   "execution_count": null,
   "metadata": {
    "id": "JOz-ED5cdzl9"
   },
   "outputs": [],
   "source": [
    "model.predict_sentiment(sentiment_df['tweet'][100])"
   ]
  },
  {
   "cell_type": "markdown",
   "metadata": {
    "id": "3Tu6OScTgwLo"
   },
   "source": [
    "#Zero shot classification(RoBERTa) for postive,neutral and negative sentiment:"
   ]
  },
  {
   "cell_type": "code",
   "execution_count": 41,
   "metadata": {
    "colab": {
     "base_uri": "https://localhost:8080/"
    },
    "executionInfo": {
     "elapsed": 8554,
     "status": "ok",
     "timestamp": 1661167082848,
     "user": {
      "displayName": "Ref Mat",
      "userId": "03081772976177259716"
     },
     "user_tz": -60
    },
    "id": "UhbOvGQLdzrj",
    "outputId": "ad9fde25-a890-44df-8ada-0767f225fd43"
   },
   "outputs": [
    {
     "name": "stderr",
     "output_type": "stream",
     "text": [
      "Some weights of the model checkpoint at roberta-large-mnli were not used when initializing RobertaForSequenceClassification: ['roberta.pooler.dense.weight', 'roberta.pooler.dense.bias']\n",
      "- This IS expected if you are initializing RobertaForSequenceClassification from the checkpoint of a model trained on another task or with another architecture (e.g. initializing a BertForSequenceClassification model from a BertForPreTraining model).\n",
      "- This IS NOT expected if you are initializing RobertaForSequenceClassification from the checkpoint of a model that you expect to be exactly identical (initializing a BertForSequenceClassification model from a BertForSequenceClassification model).\n"
     ]
    }
   ],
   "source": [
    "ZSModel = ZeroShotClassifier()"
   ]
  },
  {
   "cell_type": "code",
   "execution_count": 42,
   "metadata": {
    "colab": {
     "base_uri": "https://localhost:8080/"
    },
    "executionInfo": {
     "elapsed": 6961,
     "status": "ok",
     "timestamp": 1661168139904,
     "user": {
      "displayName": "Ref Mat",
      "userId": "03081772976177259716"
     },
     "user_tz": -60
    },
    "id": "urkBFBoBdzxJ",
    "outputId": "4840a059-94e5-475e-cba7-2ca4c4d5ffcb"
   },
   "outputs": [
    {
     "name": "stdout",
     "output_type": "stream",
     "text": [
      "--THE SENTIMENT OF THE TWEET -      This isnt good enough How are ppl meant to work kids get to school and families access services or simply shop This isnt 18th century living  : negative\n",
      "\n"
     ]
    }
   ],
   "source": [
    "# test prediction\n",
    "tweet = sentiment_df['tweet'][456]\n",
    "ZSModel.fit(tweet)\n",
    "ZSModel.predict()"
   ]
  },
  {
   "cell_type": "markdown",
   "metadata": {
    "id": "QxUWh-qXAkl2"
   },
   "source": [
    "#ZeroShotClassification(RoBERTa) Model:\n",
    "\n",
    "Performs unsupervised sentiment analysis of each tweet in sentiment_df:"
   ]
  },
  {
   "cell_type": "code",
   "execution_count": 45,
   "metadata": {
    "colab": {
     "base_uri": "https://localhost:8080/"
    },
    "executionInfo": {
     "elapsed": 9994,
     "status": "ok",
     "timestamp": 1661168485268,
     "user": {
      "displayName": "Ref Mat",
      "userId": "03081772976177259716"
     },
     "user_tz": -60
    },
    "id": "xGgdoRSsApl1",
    "outputId": "b0530907-9513-4bb6-9492-e36ae8116d87"
   },
   "outputs": [
    {
     "name": "stderr",
     "output_type": "stream",
     "text": [
      "Some weights of the model checkpoint at roberta-large-mnli were not used when initializing RobertaForSequenceClassification: ['roberta.pooler.dense.weight', 'roberta.pooler.dense.bias']\n",
      "- This IS expected if you are initializing RobertaForSequenceClassification from the checkpoint of a model trained on another task or with another architecture (e.g. initializing a BertForSequenceClassification model from a BertForPreTraining model).\n",
      "- This IS NOT expected if you are initializing RobertaForSequenceClassification from the checkpoint of a model that you expect to be exactly identical (initializing a BertForSequenceClassification model from a BertForSequenceClassification model).\n"
     ]
    }
   ],
   "source": [
    "#Util Function:\n",
    "#--------------\n",
    "classifier = pipeline('zero-shot-classification',model = 'roberta-large-mnli')\n",
    "labels = ['positive', 'neutral', 'negative']\n",
    "hypothesis_template = 'The sentiment of this review is {}.'\n",
    "mark = 0    \n",
    "\n",
    "def predict_sentiment_zsc(tweet):\n",
    "  global mark\n",
    "  mark+=1\n",
    "  if mark%10==0:\n",
    "    print(f'Processed {mark} tweets')\n",
    "    mark == 0\n",
    "  sentiment = classifier(tweet, labels, hypothesis_template = hypothesis_template)\n",
    "  if sentiment['labels'][0] == 'positive':\n",
    "    return 1\n",
    "  if sentiment['labels'][0] == 'neutral':\n",
    "    return 0\n",
    "  if sentiment['labels'][0] == 'negative':\n",
    "    return -1 "
   ]
  },
  {
   "cell_type": "code",
   "execution_count": null,
   "metadata": {
    "id": "sMtl_BdKXf6H"
   },
   "outputs": [],
   "source": [
    "sentiment_df['sentiment'] = df['tweet'].apply(predict_sentiment_zsc)"
   ]
  },
  {
   "cell_type": "code",
   "execution_count": null,
   "metadata": {
    "id": "9QMrvREMXhOg"
   },
   "outputs": [],
   "source": [
    "sentiment_df.to_csv('nswflood_full_Sentiment(RoBERTa).csv')"
   ]
  }
 ],
 "metadata": {
  "colab": {
   "authorship_tag": "ABX9TyOlTyAGW655ckl1mxWng1fs",
   "collapsed_sections": [],
   "mount_file_id": "1tj-qUf_CPqfgJsUDCfk8eowysvB7uLm3",
   "name": "BERT_Model.ipynb",
   "provenance": []
  },
  "kernelspec": {
   "display_name": "Python 3 (ipykernel)",
   "language": "python",
   "name": "python3"
  },
  "language_info": {
   "codemirror_mode": {
    "name": "ipython",
    "version": 3
   },
   "file_extension": ".py",
   "mimetype": "text/x-python",
   "name": "python",
   "nbconvert_exporter": "python",
   "pygments_lexer": "ipython3",
   "version": "3.8.10"
  }
 },
 "nbformat": 4,
 "nbformat_minor": 1
}
