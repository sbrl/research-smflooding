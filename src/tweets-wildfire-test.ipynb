{
 "cells": [
  {
   "cell_type": "code",
   "execution_count": 44,
   "metadata": {},
   "outputs": [],
   "source": [
    "import json\n",
    "import os\n",
    "import io\n",
    "\n",
    "import pandas as pd"
   ]
  },
  {
   "cell_type": "code",
   "execution_count": 38,
   "metadata": {},
   "outputs": [],
   "source": [
    "dirpath_source = \"/mnt/research-data/main/twitter/sources-wildfire/austrailia_2019-2020\""
   ]
  },
  {
   "cell_type": "code",
   "execution_count": 39,
   "metadata": {},
   "outputs": [],
   "source": [
    "def find_item(source_list, func):\n",
    "\tfor item in source_list:\n",
    "\t\tif func(item) == True:\n",
    "\t\t\treturn item\n",
    "\treturn None"
   ]
  },
  {
   "cell_type": "code",
   "execution_count": 40,
   "metadata": {},
   "outputs": [],
   "source": [
    "data_tweets = []\n",
    "with io.open(os.path.join(dirpath_source, \"tweets.jsonl\")) as handle:\n",
    "\tfor line in handle:\n",
    "\t\tline = line.strip()\n",
    "\t\tif not line:\n",
    "\t\t\tcontinue\n",
    "\t\tdata_tweets.append(json.loads(line))"
   ]
  },
  {
   "cell_type": "code",
   "execution_count": 41,
   "metadata": {},
   "outputs": [],
   "source": [
    "data_users = []\n",
    "with io.open(os.path.join(dirpath_source, \"users.jsonl\")) as handle:\n",
    "\tfor line in handle:\n",
    "\t\tline = line.strip()\n",
    "\t\tif not line:\n",
    "\t\t\tcontinue\n",
    "\t\tdata_users.append(json.loads(line))\n"
   ]
  },
  {
   "cell_type": "code",
   "execution_count": 42,
   "metadata": {},
   "outputs": [
    {
     "name": "stdout",
     "output_type": "stream",
     "text": [
      "Merging complete, scanned 27025 tweets, comparing with 18594 users and found 27025 matches, with 0 tweets left unmatched.\n"
     ]
    }
   ],
   "source": [
    "matches = 0\n",
    "unmatched = 0\n",
    "for tweet in data_tweets:\n",
    "\tmatch_next = find_item(data_users, lambda user: user[\"id\"] == tweet[\"author_id\"])\n",
    "\tif match_next is None:\n",
    "\t\tunmatched += 1\n",
    "\telse:\n",
    "\t\tmatches += 1\n",
    "\t\ttweet[\"user\"] = match_next\n",
    "\n",
    "print(f\"Merging complete, scanned {len(data_tweets)} tweets, comparing with {len(data_users)} users and found {matches} matches, with {unmatched} tweets left unmatched.\")"
   ]
  },
  {
   "cell_type": "code",
   "execution_count": 56,
   "metadata": {},
   "outputs": [
    {
     "data": {
      "text/plain": [
       "[{'id': '--GIL7JVRDfciAsKeX8Idw',\n",
       "  'username': 'w0EbvvcvIyKfM34ZUq0JxQ',\n",
       "  'location': 'Canada',\n",
       "  'public_metrics': {'followers_count': 43,\n",
       "   'following_count': 118,\n",
       "   'tweet_count': 5805,\n",
       "   'listed_count': 0}},\n",
       " {'location': 'Pasadena CA',\n",
       "  'public_metrics': {'followers_count': 8571,\n",
       "   'following_count': 4635,\n",
       "   'tweet_count': 63465,\n",
       "   'listed_count': 324},\n",
       "  'id': '--f8lvQXGe601FiJmAJehQ',\n",
       "  'username': 'hD7mfs5twVEZA1cLj2VeVA'},\n",
       " {'public_metrics': {'followers_count': 34323,\n",
       "   'following_count': 27617,\n",
       "   'tweet_count': 119918,\n",
       "   'listed_count': 32},\n",
       "  'username': 'MKuiU9OmrpVxomiAYf2YTg',\n",
       "  'location': 'Colorado, USA',\n",
       "  'id': '-07raxIRwQj7xpLHwtPeuA'},\n",
       " {'username': 'RtZEnkUSR1ViAOwBXx-4dQ',\n",
       "  'id': '-0FqxhZj1AxQSAiF1Ami9A',\n",
       "  'location': 'Seattle, WA',\n",
       "  'public_metrics': {'followers_count': 55652,\n",
       "   'following_count': 55954,\n",
       "   'tweet_count': 159227,\n",
       "   'listed_count': 1712}},\n",
       " {'username': '89yzrasCCKiZD7aRo5dPYg',\n",
       "  'location': 'Memphis, TN',\n",
       "  'id': '-0bwLd8egKgpla1JGsGf7Q',\n",
       "  'public_metrics': {'followers_count': 42418,\n",
       "   'following_count': 1532,\n",
       "   'tweet_count': 216572,\n",
       "   'listed_count': 791}}]"
      ]
     },
     "execution_count": 56,
     "metadata": {},
     "output_type": "execute_result"
    }
   ],
   "source": [
    "data_users[0:5]"
   ]
  },
  {
   "cell_type": "code",
   "execution_count": 58,
   "metadata": {},
   "outputs": [
    {
     "data": {
      "text/html": [
       "<div>\n",
       "<style scoped>\n",
       "    .dataframe tbody tr th:only-of-type {\n",
       "        vertical-align: middle;\n",
       "    }\n",
       "\n",
       "    .dataframe tbody tr th {\n",
       "        vertical-align: top;\n",
       "    }\n",
       "\n",
       "    .dataframe thead th {\n",
       "        text-align: right;\n",
       "    }\n",
       "</style>\n",
       "<table border=\"1\" class=\"dataframe\">\n",
       "  <thead>\n",
       "    <tr style=\"text-align: right;\">\n",
       "      <th></th>\n",
       "      <th>id</th>\n",
       "      <th>author_id</th>\n",
       "      <th>user_tweet_count</th>\n",
       "      <th>text</th>\n",
       "    </tr>\n",
       "  </thead>\n",
       "  <tbody>\n",
       "    <tr>\n",
       "      <th>0</th>\n",
       "      <td>--3UsVtm13iWqvG7eMcXuw</td>\n",
       "      <td>x7Vm3mifUMXrA4T3kxTEAQ</td>\n",
       "      <td>59677</td>\n",
       "      <td>Leonardo DiCaprio launches a $3MILLION Austral...</td>\n",
       "    </tr>\n",
       "    <tr>\n",
       "      <th>1</th>\n",
       "      <td>--RgfYThSZE0iZmwsHEtqQ</td>\n",
       "      <td>k0JqwwdWZiEToeGQ8FcerA</td>\n",
       "      <td>137887</td>\n",
       "      <td>Crews battling Australia's wildfires say they ...</td>\n",
       "    </tr>\n",
       "    <tr>\n",
       "      <th>2</th>\n",
       "      <td>--nHU7J_Sd9aZsKIPAmjQw</td>\n",
       "      <td>HaRufznm-zzJenyACoTALQ</td>\n",
       "      <td>990</td>\n",
       "      <td>Alumni &amp;amp; faculty from NCSE Member Institut...</td>\n",
       "    </tr>\n",
       "    <tr>\n",
       "      <th>3</th>\n",
       "      <td>--pHOUBWvFueVSai0yFhww</td>\n",
       "      <td>orA-NOegfJ-c12jp4aHatw</td>\n",
       "      <td>19757</td>\n",
       "      <td>They certainly are tiny cuties! \\n\\nWorld’s sm...</td>\n",
       "    </tr>\n",
       "    <tr>\n",
       "      <th>4</th>\n",
       "      <td>--sQndoWqPK8QA5hO7tw1A</td>\n",
       "      <td>xyYUdjmp0ZLaoSwRz9riAQ</td>\n",
       "      <td>170412</td>\n",
       "      <td>In honour of Australia Day — the national holi...</td>\n",
       "    </tr>\n",
       "    <tr>\n",
       "      <th>...</th>\n",
       "      <td>...</td>\n",
       "      <td>...</td>\n",
       "      <td>...</td>\n",
       "      <td>...</td>\n",
       "    </tr>\n",
       "    <tr>\n",
       "      <th>27020</th>\n",
       "      <td>zy_mHllcLgE724HYyMbMSQ</td>\n",
       "      <td>4vpiqhx_r3TW4mTSpVYHQg</td>\n",
       "      <td>370501</td>\n",
       "      <td>First Came the Lockdown. Then Came the Wildfir...</td>\n",
       "    </tr>\n",
       "    <tr>\n",
       "      <th>27021</th>\n",
       "      <td>zzAg4P-pZw1wCg58ZJ5BYA</td>\n",
       "      <td>DGpmkVCv5MfOuS6hl5abLg</td>\n",
       "      <td>313590</td>\n",
       "      <td>8 things everyone should know about Australia’...</td>\n",
       "    </tr>\n",
       "    <tr>\n",
       "      <th>27022</th>\n",
       "      <td>zzQFbTV5KGxf4lOgQGmJ7Q</td>\n",
       "      <td>dxWA9K3EGrVx4acQXHwGbg</td>\n",
       "      <td>112476</td>\n",
       "      <td>Australia’s wildfire crisis faces a new foe: M...</td>\n",
       "    </tr>\n",
       "    <tr>\n",
       "      <th>27023</th>\n",
       "      <td>zzXTsmAg0fltJ-KI4kOcQw</td>\n",
       "      <td>MYD1uBXcIkjp9sJYwdy8hQ</td>\n",
       "      <td>54375</td>\n",
       "      <td>‘Apocalyptic’ rat plague wipes out entire crop...</td>\n",
       "    </tr>\n",
       "    <tr>\n",
       "      <th>27024</th>\n",
       "      <td>zzzgj2M2Ps9ytpXacBiPZw</td>\n",
       "      <td>_yFAymOncDV83EliMqKI9g</td>\n",
       "      <td>60929</td>\n",
       "      <td>Way to go @F5S9nV9nfqKfZrDQncsqwQ  And thank y...</td>\n",
       "    </tr>\n",
       "  </tbody>\n",
       "</table>\n",
       "<p>27025 rows × 4 columns</p>\n",
       "</div>"
      ],
      "text/plain": [
       "                           id               author_id  user_tweet_count  \\\n",
       "0      --3UsVtm13iWqvG7eMcXuw  x7Vm3mifUMXrA4T3kxTEAQ             59677   \n",
       "1      --RgfYThSZE0iZmwsHEtqQ  k0JqwwdWZiEToeGQ8FcerA            137887   \n",
       "2      --nHU7J_Sd9aZsKIPAmjQw  HaRufznm-zzJenyACoTALQ               990   \n",
       "3      --pHOUBWvFueVSai0yFhww  orA-NOegfJ-c12jp4aHatw             19757   \n",
       "4      --sQndoWqPK8QA5hO7tw1A  xyYUdjmp0ZLaoSwRz9riAQ            170412   \n",
       "...                       ...                     ...               ...   \n",
       "27020  zy_mHllcLgE724HYyMbMSQ  4vpiqhx_r3TW4mTSpVYHQg            370501   \n",
       "27021  zzAg4P-pZw1wCg58ZJ5BYA  DGpmkVCv5MfOuS6hl5abLg            313590   \n",
       "27022  zzQFbTV5KGxf4lOgQGmJ7Q  dxWA9K3EGrVx4acQXHwGbg            112476   \n",
       "27023  zzXTsmAg0fltJ-KI4kOcQw  MYD1uBXcIkjp9sJYwdy8hQ             54375   \n",
       "27024  zzzgj2M2Ps9ytpXacBiPZw  _yFAymOncDV83EliMqKI9g             60929   \n",
       "\n",
       "                                                    text  \n",
       "0      Leonardo DiCaprio launches a $3MILLION Austral...  \n",
       "1      Crews battling Australia's wildfires say they ...  \n",
       "2      Alumni &amp; faculty from NCSE Member Institut...  \n",
       "3      They certainly are tiny cuties! \\n\\nWorld’s sm...  \n",
       "4      In honour of Australia Day — the national holi...  \n",
       "...                                                  ...  \n",
       "27020  First Came the Lockdown. Then Came the Wildfir...  \n",
       "27021  8 things everyone should know about Australia’...  \n",
       "27022  Australia’s wildfire crisis faces a new foe: M...  \n",
       "27023  ‘Apocalyptic’ rat plague wipes out entire crop...  \n",
       "27024  Way to go @F5S9nV9nfqKfZrDQncsqwQ  And thank y...  \n",
       "\n",
       "[27025 rows x 4 columns]"
      ]
     },
     "execution_count": 58,
     "metadata": {},
     "output_type": "execute_result"
    }
   ],
   "source": [
    "# df_tweets = pd.DataFrame([ [tweet[\"id\"], tweet[\"author_id\"], tweet[\"user\"][\"location\"], tweet[\"text\"]] for tweet in data_tweets ])\n",
    "df_tweets = pd.DataFrame([ [tweet[\"id\"], tweet[\"author_id\"], tweet[\"user\"][\"public_metrics\"][\"tweet_count\"], tweet[\"text\"]] for tweet in data_tweets ])\n",
    "df_tweets.columns = [ \"id\", \"author_id\", \"user_tweet_count\", \"text\" ]\n",
    "\n",
    "df_tweets"
   ]
  },
  {
   "cell_type": "code",
   "execution_count": 47,
   "metadata": {},
   "outputs": [
    {
     "data": {
      "text/plain": [
       "[{'id': '--GIL7JVRDfciAsKeX8Idw',\n",
       "  'username': 'w0EbvvcvIyKfM34ZUq0JxQ',\n",
       "  'location': 'Canada',\n",
       "  'public_metrics': {'followers_count': 43,\n",
       "   'following_count': 118,\n",
       "   'tweet_count': 5805,\n",
       "   'listed_count': 0}},\n",
       " {'location': 'Pasadena CA',\n",
       "  'public_metrics': {'followers_count': 8571,\n",
       "   'following_count': 4635,\n",
       "   'tweet_count': 63465,\n",
       "   'listed_count': 324},\n",
       "  'id': '--f8lvQXGe601FiJmAJehQ',\n",
       "  'username': 'hD7mfs5twVEZA1cLj2VeVA'},\n",
       " {'public_metrics': {'followers_count': 34323,\n",
       "   'following_count': 27617,\n",
       "   'tweet_count': 119918,\n",
       "   'listed_count': 32},\n",
       "  'username': 'MKuiU9OmrpVxomiAYf2YTg',\n",
       "  'location': 'Colorado, USA',\n",
       "  'id': '-07raxIRwQj7xpLHwtPeuA'},\n",
       " {'username': 'RtZEnkUSR1ViAOwBXx-4dQ',\n",
       "  'id': '-0FqxhZj1AxQSAiF1Ami9A',\n",
       "  'location': 'Seattle, WA',\n",
       "  'public_metrics': {'followers_count': 55652,\n",
       "   'following_count': 55954,\n",
       "   'tweet_count': 159227,\n",
       "   'listed_count': 1712}},\n",
       " {'username': '89yzrasCCKiZD7aRo5dPYg',\n",
       "  'location': 'Memphis, TN',\n",
       "  'id': '-0bwLd8egKgpla1JGsGf7Q',\n",
       "  'public_metrics': {'followers_count': 42418,\n",
       "   'following_count': 1532,\n",
       "   'tweet_count': 216572,\n",
       "   'listed_count': 791}}]"
      ]
     },
     "execution_count": 47,
     "metadata": {},
     "output_type": "execute_result"
    }
   ],
   "source": [
    "data_users[0:5]"
   ]
  }
 ],
 "metadata": {
  "kernelspec": {
   "display_name": "Python 3",
   "language": "python",
   "name": "python3"
  },
  "language_info": {
   "codemirror_mode": {
    "name": "ipython",
    "version": 3
   },
   "file_extension": ".py",
   "mimetype": "text/x-python",
   "name": "python",
   "nbconvert_exporter": "python",
   "pygments_lexer": "ipython3",
   "version": "3.10.6"
  },
  "orig_nbformat": 4
 },
 "nbformat": 4,
 "nbformat_minor": 2
}
